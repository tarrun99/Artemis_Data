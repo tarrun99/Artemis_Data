{
 "cells": [
  {
   "cell_type": "code",
   "execution_count": 15,
   "metadata": {},
   "outputs": [
    {
     "name": "stdout",
     "output_type": "stream",
     "text": [
      "hello \n",
      "magenese\n",
      "cobalt\n",
      "higg \n",
      "iron \n",
      "copper\n",
      "adamandium\n",
      "adamandium\n",
      "adamandium\n",
      "adamandium\n",
      "NASA\n",
      "NASA ScienceSolar System ExplorationSkip Navigation\n",
      "MISSIONS â€º ARTEMIS\n",
      "ARTEMIS (THEMIS)\n",
      "Note: This page refers to the twin robotic spacecraft currently studying the Moon. For details on NASA's new Artemis mission to return astronauts to the lunar surface, including the first woman and the next man, visit: www.nasa.gov/artemis\n",
      "\n",
      "\n",
      "DWARF PLANETS\n",
      "Pluto\n",
      "Ceres\n",
      "Makemake\n",
      "Haumea\n",
      "Eris\n",
      "HYPOTHETICAL\n",
      "Planet X\n",
      "MOONS\n",
      "About Moons\n",
      "BY DESTINATION\n",
      "Earth (1)\n",
      "Mars (2)\n",
      "Jupiter (79)\n",
      "Saturn (82)\n",
      "Uranus (27)\n",
      "Neptune (14)\n",
      "Pluto (5)\n",
      "ASTEROIDS, COMETS & METEORS\n",
      "About Asteroids, Comets & Meteors\n",
      "BY TYPE\n",
      "Meteors & Meteorites\n",
      "Asteroids\n",
      "Comets\n",
      "MORE\n",
      "News\n",
      "What's Up: Skywatching Tips from NASA\n",
      "Resources\n",
      "Raw Images\n",
      "People\n",
      "Missions\n",
      "Science Goals\n",
      "Technology Reports\n",
      "Kids\n",
      "Interactives\n",
      "Basics of Space Flight\n",
      "Solar System Ambassadors\n",
      "Scientist for a Day\n",
      "ABOUT US  BIBLIOGRAPHY  FEEDBACK  PRIVACY  IMAGE USE  NASA SCIENCE MISSION DIRECTORATE  NASA PORTAL\n",
      "This site is maintained by the Planetary Science Communications team at NASAâ€™s Jet Propulsion Laboratory for NASAâ€™s Science Mission Directorate.\n",
      "Director, NASA Planetary Science Division: Dr. Lori Glaze\n",
      "NASA Official: Kristen Erickson\n",
      "Site Manager: Phillips Davis\n",
      "Science Writer: Amanda Barnett\n",
      "Social Media Lead: Bill Dunford\n"
     ]
    }
   ],
   "source": [
    "strpath = \"rocks.txt\"\n",
    "fileobject = open(strpath)\n",
    "line = fileobject.read()\n",
    "print(line)"
   ]
  },
  {
   "cell_type": "code",
   "execution_count": 30,
   "metadata": {},
   "outputs": [
    {
     "ename": "ValueError",
     "evalue": "I/O operation on closed file.",
     "output_type": "error",
     "traceback": [
      "\u001b[1;31m---------------------------------------------------------------------------\u001b[0m",
      "\u001b[1;31mValueError\u001b[0m                                Traceback (most recent call last)",
      "\u001b[1;32m<ipython-input-30-149535d9bd86>\u001b[0m in \u001b[0;36m<module>\u001b[1;34m\u001b[0m\n\u001b[1;32m----> 1\u001b[1;33m \u001b[0mrocklist\u001b[0m \u001b[1;33m=\u001b[0m \u001b[0mfileobject\u001b[0m\u001b[1;33m.\u001b[0m\u001b[0mread\u001b[0m\u001b[1;33m(\u001b[0m\u001b[1;33m)\u001b[0m\u001b[1;33m\u001b[0m\u001b[1;33m\u001b[0m\u001b[0m\n\u001b[0m\u001b[0;32m      2\u001b[0m \u001b[1;32mfor\u001b[0m \u001b[0mrock\u001b[0m \u001b[1;32min\u001b[0m \u001b[0mrocklist\u001b[0m\u001b[1;33m:\u001b[0m\u001b[1;33m\u001b[0m\u001b[1;33m\u001b[0m\u001b[0m\n\u001b[0;32m      3\u001b[0m     \u001b[0mprint\u001b[0m\u001b[1;33m(\u001b[0m\u001b[0mrock\u001b[0m\u001b[1;33m)\u001b[0m\u001b[1;33m\u001b[0m\u001b[1;33m\u001b[0m\u001b[0m\n\u001b[0;32m      4\u001b[0m \u001b[1;33m\u001b[0m\u001b[0m\n\u001b[0;32m      5\u001b[0m \u001b[1;33m\u001b[0m\u001b[0m\n",
      "\u001b[1;31mValueError\u001b[0m: I/O operation on closed file."
     ]
    }
   ],
   "source": [
    "rocklist = fileobject.read()\n",
    "for rock in rocklist:\n",
    "    print(rock)\n",
    "\n",
    "    "
   ]
  },
  {
   "cell_type": "code",
   "execution_count": 31,
   "metadata": {},
   "outputs": [],
   "source": [
    "def countmoonrocks(rockToID):\n",
    "    global basalt\n",
    "    global breccia\n",
    "    global adamandium\n",
    "    \n",
    "    rockToID = ockToID.lower()\n",
    "    if \"basalt\" in rockToId:\n",
    "        print(\"found Basalt\")\n",
    "        basalt = basalt + 1\n",
    "    elif \"adamandium\" in rockToID:\n",
    "        print(\"found adamandium\")\n",
    "        adamandium = adamandium + 1\n",
    "    return\n",
    "for rock in rocklist:\n",
    "    countmoonrocks(rock)"
   ]
  },
  {
   "cell_type": "code",
   "execution_count": 32,
   "metadata": {},
   "outputs": [
    {
     "ename": "NameError",
     "evalue": "name 'basalt' is not defined",
     "output_type": "error",
     "traceback": [
      "\u001b[1;31m---------------------------------------------------------------------------\u001b[0m",
      "\u001b[1;31mNameError\u001b[0m                                 Traceback (most recent call last)",
      "\u001b[1;32m<ipython-input-32-46db9ef80302>\u001b[0m in \u001b[0;36m<module>\u001b[1;34m\u001b[0m\n\u001b[1;32m----> 1\u001b[1;33m \u001b[0mprint\u001b[0m\u001b[1;33m(\u001b[0m\u001b[1;34m\" \"\u001b[0m\u001b[1;33m,\u001b[0m \u001b[0mbasalt\u001b[0m\u001b[1;33m)\u001b[0m\u001b[1;33m\u001b[0m\u001b[1;33m\u001b[0m\u001b[0m\n\u001b[0m",
      "\u001b[1;31mNameError\u001b[0m: name 'basalt' is not defined"
     ]
    }
   ],
   "source": [
    "print(\" \", basalt)"
   ]
  },
  {
   "cell_type": "code",
   "execution_count": 25,
   "metadata": {},
   "outputs": [
    {
     "ename": "NameError",
     "evalue": "name 'adamandium' is not defined",
     "output_type": "error",
     "traceback": [
      "\u001b[1;31m---------------------------------------------------------------------------\u001b[0m",
      "\u001b[1;31mNameError\u001b[0m                                 Traceback (most recent call last)",
      "\u001b[1;32m<ipython-input-25-7c618e78e357>\u001b[0m in \u001b[0;36m<module>\u001b[1;34m\u001b[0m\n\u001b[1;32m----> 1\u001b[1;33m \u001b[0mprint\u001b[0m\u001b[1;33m(\u001b[0m\u001b[0madamandium\u001b[0m\u001b[1;33m)\u001b[0m\u001b[1;33m\u001b[0m\u001b[1;33m\u001b[0m\u001b[0m\n\u001b[0m",
      "\u001b[1;31mNameError\u001b[0m: name 'adamandium' is not defined"
     ]
    }
   ],
   "source": [
    "print(adamandium)"
   ]
  },
  {
   "cell_type": "code",
   "execution_count": 26,
   "metadata": {},
   "outputs": [
    {
     "ename": "NameError",
     "evalue": "name 'adamandium' is not defined",
     "output_type": "error",
     "traceback": [
      "\u001b[1;31m---------------------------------------------------------------------------\u001b[0m",
      "\u001b[1;31mNameError\u001b[0m                                 Traceback (most recent call last)",
      "\u001b[1;32m<ipython-input-26-66cc58a2520a>\u001b[0m in \u001b[0;36m<module>\u001b[1;34m\u001b[0m\n\u001b[1;32m----> 1\u001b[1;33m \u001b[0mprint\u001b[0m\u001b[1;33m(\u001b[0m\u001b[0mmax\u001b[0m\u001b[1;33m(\u001b[0m\u001b[0madamandium\u001b[0m\u001b[1;33m)\u001b[0m\u001b[1;33m)\u001b[0m\u001b[1;33m\u001b[0m\u001b[1;33m\u001b[0m\u001b[0m\n\u001b[0m",
      "\u001b[1;31mNameError\u001b[0m: name 'adamandium' is not defined"
     ]
    }
   ],
   "source": [
    "print(max(adamandium))"
   ]
  },
  {
   "cell_type": "code",
   "execution_count": null,
   "metadata": {},
   "outputs": [],
   "source": []
  }
 ],
 "metadata": {
  "kernelspec": {
   "display_name": "Python 3",
   "language": "python",
   "name": "python3"
  },
  "language_info": {
   "codemirror_mode": {
    "name": "ipython",
    "version": 3
   },
   "file_extension": ".py",
   "mimetype": "text/x-python",
   "name": "python",
   "nbconvert_exporter": "python",
   "pygments_lexer": "ipython3",
   "version": "3.7.9"
  }
 },
 "nbformat": 4,
 "nbformat_minor": 4
}
